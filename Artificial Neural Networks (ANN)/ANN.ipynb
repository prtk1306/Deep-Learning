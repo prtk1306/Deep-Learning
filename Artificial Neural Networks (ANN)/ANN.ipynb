{
 "cells": [
  {
   "cell_type": "code",
   "execution_count": 1,
   "metadata": {
    "collapsed": true
   },
   "outputs": [],
   "source": [
    "#Import libraries\n",
    "import pandas as pd\n",
    "import numpy as np\n",
    "import matplotlib.pyplot as plt"
   ]
  },
  {
   "cell_type": "code",
   "execution_count": 2,
   "metadata": {
    "collapsed": true
   },
   "outputs": [],
   "source": [
    "#read dataset\n",
    "dataset = pd.read_csv('data/Churn_Modelling.csv')\n",
    "X = dataset.iloc[:,3:13]\n",
    "y = dataset.iloc[:,13]"
   ]
  },
  {
   "cell_type": "code",
   "execution_count": 3,
   "metadata": {
    "collapsed": true
   },
   "outputs": [],
   "source": [
    "#data preprocessing\n",
    "#encoding categorical data\n",
    "from sklearn.preprocessing import LabelEncoder, OneHotEncoder\n",
    "labelencoder_X_1 = LabelEncoder()\n",
    "X.iloc[:,1] = labelencoder_X_1.fit_transform(X.iloc[:,1])\n",
    "labelencoder_X_2 = LabelEncoder()\n",
    "X.iloc[:,2] = labelencoder_X_2.fit_transform(X.iloc[:,2])\n",
    "onehotencoder = OneHotEncoder(categorical_features = [1])\n",
    "X = onehotencoder.fit_transform(X).toarray()\n",
    "X = X[:,1:]"
   ]
  },
  {
   "cell_type": "code",
   "execution_count": 4,
   "metadata": {
    "collapsed": true
   },
   "outputs": [],
   "source": [
    "#split dataset into training and tetsing dataset\n",
    "from sklearn.cross_validation import train_test_split\n",
    "X_train, X_test, y_train, y_test = train_test_split(X, y, test_size = 0.2, random_state=0)"
   ]
  },
  {
   "cell_type": "code",
   "execution_count": 5,
   "metadata": {
    "collapsed": true
   },
   "outputs": [],
   "source": [
    "#feature scaling\n",
    "from sklearn.preprocessing import StandardScaler\n",
    "sc = StandardScaler()\n",
    "X_train= sc.fit_transform(X_train)\n",
    "X_test = sc.transform(X_test)"
   ]
  },
  {
   "cell_type": "code",
   "execution_count": 6,
   "metadata": {
    "collapsed": false
   },
   "outputs": [
    {
     "name": "stderr",
     "output_type": "stream",
     "text": [
      "Using TensorFlow backend.\n"
     ]
    }
   ],
   "source": [
    "#build ANN\n",
    "import keras\n",
    "from keras.models import Sequential\n",
    "from keras.layers import Dense"
   ]
  },
  {
   "cell_type": "code",
   "execution_count": 7,
   "metadata": {
    "collapsed": true
   },
   "outputs": [],
   "source": [
    "#initializung the ANN\n",
    "classifier = Sequential()"
   ]
  },
  {
   "cell_type": "code",
   "execution_count": 8,
   "metadata": {
    "collapsed": false
   },
   "outputs": [
    {
     "name": "stderr",
     "output_type": "stream",
     "text": [
      "C:\\Users\\prtk1\\Anaconda3\\lib\\site-packages\\ipykernel\\__main__.py:2: UserWarning: Update your `Dense` call to the Keras 2 API: `Dense(units=6, activation=\"relu\", input_dim=11, kernel_initializer=\"uniform\")`\n",
      "  from ipykernel import kernelapp as app\n"
     ]
    }
   ],
   "source": [
    "#adding the input layer and first hidden layer\n",
    "classifier.add(Dense(output_dim=6, init='uniform', activation='relu', input_dim=11))"
   ]
  },
  {
   "cell_type": "code",
   "execution_count": 9,
   "metadata": {
    "collapsed": false
   },
   "outputs": [
    {
     "name": "stderr",
     "output_type": "stream",
     "text": [
      "C:\\Users\\prtk1\\Anaconda3\\lib\\site-packages\\ipykernel\\__main__.py:2: UserWarning: Update your `Dense` call to the Keras 2 API: `Dense(kernel_initializer=\"uniform\", units=6, activation=\"relu\")`\n",
      "  from ipykernel import kernelapp as app\n"
     ]
    }
   ],
   "source": [
    "#adding second hidden layer\n",
    "classifier.add(Dense(output_dim=6, init='uniform', activation='relu'))"
   ]
  },
  {
   "cell_type": "code",
   "execution_count": 10,
   "metadata": {
    "collapsed": false
   },
   "outputs": [
    {
     "name": "stderr",
     "output_type": "stream",
     "text": [
      "C:\\Users\\prtk1\\Anaconda3\\lib\\site-packages\\ipykernel\\__main__.py:2: UserWarning: Update your `Dense` call to the Keras 2 API: `Dense(kernel_initializer=\"uniform\", units=1, activation=\"sigmoid\")`\n",
      "  from ipykernel import kernelapp as app\n"
     ]
    }
   ],
   "source": [
    "#adding output layer\n",
    "classifier.add(Dense(output_dim=1, init='uniform', activation='sigmoid'))"
   ]
  },
  {
   "cell_type": "code",
   "execution_count": 11,
   "metadata": {
    "collapsed": true
   },
   "outputs": [],
   "source": [
    "#compile ANN\n",
    "classifier.compile(optimizer='adam', loss='binary_crossentropy', metrics=['accuracy'])"
   ]
  },
  {
   "cell_type": "code",
   "execution_count": 12,
   "metadata": {
    "collapsed": false
   },
   "outputs": [
    {
     "name": "stdout",
     "output_type": "stream",
     "text": [
      "Epoch 1/100\n",
      "8000/8000 [==============================] - 1s 119us/step - loss: 0.4924 - acc: 0.7954\n",
      "Epoch 2/100\n",
      "8000/8000 [==============================] - 1s 80us/step - loss: 0.4287 - acc: 0.7960\n",
      "Epoch 3/100\n",
      "8000/8000 [==============================] - 1s 82us/step - loss: 0.4237 - acc: 0.7960\n",
      "Epoch 4/100\n",
      "8000/8000 [==============================] - 1s 81us/step - loss: 0.4201 - acc: 0.8122\n",
      "Epoch 5/100\n",
      "8000/8000 [==============================] - 1s 81us/step - loss: 0.4175 - acc: 0.8231\n",
      "Epoch 6/100\n",
      "8000/8000 [==============================] - 1s 81us/step - loss: 0.4157 - acc: 0.8272\n",
      "Epoch 7/100\n",
      "8000/8000 [==============================] - 1s 80us/step - loss: 0.4141 - acc: 0.8294\n",
      "Epoch 8/100\n",
      "8000/8000 [==============================] - 1s 80us/step - loss: 0.4130 - acc: 0.8306\n",
      "Epoch 9/100\n",
      "8000/8000 [==============================] - 1s 81us/step - loss: 0.4118 - acc: 0.8317\n",
      "Epoch 10/100\n",
      "8000/8000 [==============================] - 1s 80us/step - loss: 0.4110 - acc: 0.8331\n",
      "Epoch 11/100\n",
      "8000/8000 [==============================] - 1s 80us/step - loss: 0.4099 - acc: 0.8335\n",
      "Epoch 12/100\n",
      "8000/8000 [==============================] - 1s 80us/step - loss: 0.4093 - acc: 0.8339\n",
      "Epoch 13/100\n",
      "8000/8000 [==============================] - 1s 83us/step - loss: 0.4085 - acc: 0.8331\n",
      "Epoch 14/100\n",
      "8000/8000 [==============================] - 1s 82us/step - loss: 0.4082 - acc: 0.8359\n",
      "Epoch 15/100\n",
      "8000/8000 [==============================] - 1s 82us/step - loss: 0.4072 - acc: 0.8344\n",
      "Epoch 16/100\n",
      "8000/8000 [==============================] - 1s 84us/step - loss: 0.4068 - acc: 0.8349\n",
      "Epoch 17/100\n",
      "8000/8000 [==============================] - 1s 81us/step - loss: 0.4060 - acc: 0.8350\n",
      "Epoch 18/100\n",
      "8000/8000 [==============================] - 1s 81us/step - loss: 0.4053 - acc: 0.8330\n",
      "Epoch 19/100\n",
      "8000/8000 [==============================] - 1s 81us/step - loss: 0.4053 - acc: 0.8351\n",
      "Epoch 20/100\n",
      "8000/8000 [==============================] - 1s 81us/step - loss: 0.4051 - acc: 0.8331\n",
      "Epoch 21/100\n",
      "8000/8000 [==============================] - 1s 82us/step - loss: 0.4048 - acc: 0.8352\n",
      "Epoch 22/100\n",
      "8000/8000 [==============================] - 1s 81us/step - loss: 0.4043 - acc: 0.8355\n",
      "Epoch 23/100\n",
      "8000/8000 [==============================] - 1s 82us/step - loss: 0.4042 - acc: 0.8341\n",
      "Epoch 24/100\n",
      "8000/8000 [==============================] - 1s 82us/step - loss: 0.4036 - acc: 0.8345\n",
      "Epoch 25/100\n",
      "8000/8000 [==============================] - 1s 82us/step - loss: 0.4038 - acc: 0.8356\n",
      "Epoch 26/100\n",
      "8000/8000 [==============================] - 1s 81us/step - loss: 0.4036 - acc: 0.8355\n",
      "Epoch 27/100\n",
      "8000/8000 [==============================] - 1s 82us/step - loss: 0.4033 - acc: 0.8350\n",
      "Epoch 28/100\n",
      "8000/8000 [==============================] - 1s 81us/step - loss: 0.4030 - acc: 0.8350\n",
      "Epoch 29/100\n",
      "8000/8000 [==============================] - 1s 78us/step - loss: 0.4033 - acc: 0.8349\n",
      "Epoch 30/100\n",
      "8000/8000 [==============================] - 1s 85us/step - loss: 0.4027 - acc: 0.8351\n",
      "Epoch 31/100\n",
      "8000/8000 [==============================] - 1s 84us/step - loss: 0.4023 - acc: 0.8340\n",
      "Epoch 32/100\n",
      "8000/8000 [==============================] - 1s 83us/step - loss: 0.4030 - acc: 0.8334\n",
      "Epoch 33/100\n",
      "8000/8000 [==============================] - 1s 80us/step - loss: 0.4023 - acc: 0.8364\n",
      "Epoch 34/100\n",
      "8000/8000 [==============================] - 1s 80us/step - loss: 0.4023 - acc: 0.8331\n",
      "Epoch 35/100\n",
      "8000/8000 [==============================] - 1s 80us/step - loss: 0.4023 - acc: 0.8354\n",
      "Epoch 36/100\n",
      "8000/8000 [==============================] - 1s 86us/step - loss: 0.4022 - acc: 0.8347\n",
      "Epoch 37/100\n",
      "8000/8000 [==============================] - 1s 78us/step - loss: 0.4019 - acc: 0.8340\n",
      "Epoch 38/100\n",
      "8000/8000 [==============================] - 1s 79us/step - loss: 0.4016 - acc: 0.8339\n",
      "Epoch 39/100\n",
      "8000/8000 [==============================] - 1s 78us/step - loss: 0.4021 - acc: 0.8355\n",
      "Epoch 40/100\n",
      "8000/8000 [==============================] - 1s 80us/step - loss: 0.4019 - acc: 0.8352\n",
      "Epoch 41/100\n",
      "8000/8000 [==============================] - 1s 78us/step - loss: 0.4018 - acc: 0.8354\n",
      "Epoch 42/100\n",
      "8000/8000 [==============================] - 1s 86us/step - loss: 0.4015 - acc: 0.8347\n",
      "Epoch 43/100\n",
      "8000/8000 [==============================] - 1s 95us/step - loss: 0.4011 - acc: 0.8342\n",
      "Epoch 44/100\n",
      "8000/8000 [==============================] - 1s 79us/step - loss: 0.4014 - acc: 0.8341\n",
      "Epoch 45/100\n",
      "8000/8000 [==============================] - 1s 75us/step - loss: 0.4009 - acc: 0.8355\n",
      "Epoch 46/100\n",
      "8000/8000 [==============================] - 1s 75us/step - loss: 0.4005 - acc: 0.8347\n",
      "Epoch 47/100\n",
      "8000/8000 [==============================] - 1s 76us/step - loss: 0.4002 - acc: 0.8349\n",
      "Epoch 48/100\n",
      "8000/8000 [==============================] - 1s 76us/step - loss: 0.4001 - acc: 0.8359\n",
      "Epoch 49/100\n",
      "8000/8000 [==============================] - 1s 78us/step - loss: 0.3992 - acc: 0.8347\n",
      "Epoch 50/100\n",
      "8000/8000 [==============================] - 1s 77us/step - loss: 0.3995 - acc: 0.8354\n",
      "Epoch 51/100\n",
      "8000/8000 [==============================] - 1s 79us/step - loss: 0.3995 - acc: 0.8339\n",
      "Epoch 52/100\n",
      "8000/8000 [==============================] - 1s 77us/step - loss: 0.3987 - acc: 0.8344\n",
      "Epoch 53/100\n",
      "8000/8000 [==============================] - 1s 76us/step - loss: 0.3989 - acc: 0.8354\n",
      "Epoch 54/100\n",
      "8000/8000 [==============================] - 1s 79us/step - loss: 0.3982 - acc: 0.8345\n",
      "Epoch 55/100\n",
      "8000/8000 [==============================] - 1s 80us/step - loss: 0.3986 - acc: 0.8346\n",
      "Epoch 56/100\n",
      "8000/8000 [==============================] - 1s 78us/step - loss: 0.3978 - acc: 0.8359\n",
      "Epoch 57/100\n",
      "8000/8000 [==============================] - 1s 79us/step - loss: 0.3975 - acc: 0.8359\n",
      "Epoch 58/100\n",
      "8000/8000 [==============================] - 1s 78us/step - loss: 0.3974 - acc: 0.8362\n",
      "Epoch 59/100\n",
      "8000/8000 [==============================] - 1s 78us/step - loss: 0.3973 - acc: 0.8370\n",
      "Epoch 60/100\n",
      "8000/8000 [==============================] - 1s 79us/step - loss: 0.3967 - acc: 0.8346\n",
      "Epoch 61/100\n",
      "8000/8000 [==============================] - 1s 78us/step - loss: 0.3963 - acc: 0.8361\n",
      "Epoch 62/100\n",
      "8000/8000 [==============================] - 1s 78us/step - loss: 0.3956 - acc: 0.8347\n",
      "Epoch 63/100\n",
      "8000/8000 [==============================] - 1s 78us/step - loss: 0.3965 - acc: 0.8337\n",
      "Epoch 64/100\n",
      "8000/8000 [==============================] - 1s 80us/step - loss: 0.3962 - acc: 0.8342\n",
      "Epoch 65/100\n",
      "8000/8000 [==============================] - 1s 77us/step - loss: 0.3956 - acc: 0.8347\n",
      "Epoch 66/100\n",
      "8000/8000 [==============================] - 1s 77us/step - loss: 0.3962 - acc: 0.8354\n",
      "Epoch 67/100\n",
      "8000/8000 [==============================] - 1s 76us/step - loss: 0.3958 - acc: 0.8357\n",
      "Epoch 68/100\n",
      "8000/8000 [==============================] - 1s 78us/step - loss: 0.3959 - acc: 0.8370\n",
      "Epoch 69/100\n",
      "8000/8000 [==============================] - 1s 80us/step - loss: 0.3957 - acc: 0.8339\n",
      "Epoch 70/100\n",
      "8000/8000 [==============================] - 1s 80us/step - loss: 0.3953 - acc: 0.8349\n",
      "Epoch 71/100\n",
      "8000/8000 [==============================] - 1s 80us/step - loss: 0.3956 - acc: 0.8356\n",
      "Epoch 72/100\n",
      "8000/8000 [==============================] - 1s 80us/step - loss: 0.3956 - acc: 0.8351\n",
      "Epoch 73/100\n",
      "8000/8000 [==============================] - 1s 79us/step - loss: 0.3950 - acc: 0.8365\n",
      "Epoch 74/100\n",
      "8000/8000 [==============================] - 1s 80us/step - loss: 0.3953 - acc: 0.8355\n",
      "Epoch 75/100\n",
      "8000/8000 [==============================] - 1s 80us/step - loss: 0.3951 - acc: 0.8352\n",
      "Epoch 76/100\n",
      "8000/8000 [==============================] - 1s 81us/step - loss: 0.3950 - acc: 0.8365\n",
      "Epoch 77/100\n",
      "8000/8000 [==============================] - 1s 79us/step - loss: 0.3949 - acc: 0.8344\n",
      "Epoch 78/100\n",
      "8000/8000 [==============================] - 1s 80us/step - loss: 0.3946 - acc: 0.8367\n",
      "Epoch 79/100\n",
      "8000/8000 [==============================] - 1s 80us/step - loss: 0.3946 - acc: 0.8347\n",
      "Epoch 80/100\n",
      "8000/8000 [==============================] - 1s 80us/step - loss: 0.3944 - acc: 0.8350\n",
      "Epoch 81/100\n",
      "8000/8000 [==============================] - 1s 79us/step - loss: 0.3949 - acc: 0.8367\n",
      "Epoch 82/100\n",
      "8000/8000 [==============================] - 1s 79us/step - loss: 0.3949 - acc: 0.8360\n",
      "Epoch 83/100\n",
      "8000/8000 [==============================] - 1s 79us/step - loss: 0.3946 - acc: 0.8369\n",
      "Epoch 84/100\n",
      "8000/8000 [==============================] - 1s 80us/step - loss: 0.3945 - acc: 0.8341\n",
      "Epoch 85/100\n",
      "8000/8000 [==============================] - 1s 79us/step - loss: 0.3950 - acc: 0.8339\n",
      "Epoch 86/100\n",
      "8000/8000 [==============================] - 1s 79us/step - loss: 0.3942 - acc: 0.8366\n",
      "Epoch 87/100\n",
      "8000/8000 [==============================] - 1s 79us/step - loss: 0.3945 - acc: 0.8346\n",
      "Epoch 88/100\n",
      "8000/8000 [==============================] - 1s 79us/step - loss: 0.3943 - acc: 0.8370\n",
      "Epoch 89/100\n",
      "8000/8000 [==============================] - 1s 86us/step - loss: 0.3946 - acc: 0.8359\n",
      "Epoch 90/100\n",
      "8000/8000 [==============================] - 1s 80us/step - loss: 0.3944 - acc: 0.8351\n",
      "Epoch 91/100\n",
      "8000/8000 [==============================] - 1s 85us/step - loss: 0.3944 - acc: 0.8361\n",
      "Epoch 92/100\n",
      "8000/8000 [==============================] - 1s 87us/step - loss: 0.3944 - acc: 0.8354\n",
      "Epoch 93/100\n",
      "8000/8000 [==============================] - 1s 81us/step - loss: 0.3943 - acc: 0.8361\n",
      "Epoch 94/100\n",
      "8000/8000 [==============================] - 1s 78us/step - loss: 0.3942 - acc: 0.8359\n",
      "Epoch 95/100\n",
      "8000/8000 [==============================] - 1s 78us/step - loss: 0.3943 - acc: 0.8334\n",
      "Epoch 96/100\n",
      "8000/8000 [==============================] - 1s 79us/step - loss: 0.3943 - acc: 0.8347\n",
      "Epoch 97/100\n",
      "8000/8000 [==============================] - 1s 78us/step - loss: 0.3935 - acc: 0.8369\n",
      "Epoch 98/100\n",
      "8000/8000 [==============================] - 1s 81us/step - loss: 0.3936 - acc: 0.8369\n",
      "Epoch 99/100\n",
      "8000/8000 [==============================] - 1s 75us/step - loss: 0.3941 - acc: 0.8350\n",
      "Epoch 100/100\n",
      "8000/8000 [==============================] - 1s 77us/step - loss: 0.3945 - acc: 0.8364\n"
     ]
    },
    {
     "data": {
      "text/plain": [
       "<keras.callbacks.History at 0x1b1aa1daf98>"
      ]
     },
     "execution_count": 12,
     "metadata": {},
     "output_type": "execute_result"
    }
   ],
   "source": [
    "#Fitting ANN model to training dataset\n",
    "classifier.fit(X_train, y_train, batch_size=10, epochs=100)"
   ]
  },
  {
   "cell_type": "code",
   "execution_count": 13,
   "metadata": {
    "collapsed": true
   },
   "outputs": [],
   "source": [
    "#predict results for testing dataset\n",
    "y_pred = classifier.predict(X_test)\n",
    "y_pred = (y_pred > 0.5)"
   ]
  },
  {
   "cell_type": "code",
   "execution_count": 14,
   "metadata": {
    "collapsed": true
   },
   "outputs": [],
   "source": [
    "#confusion matrix\n",
    "from sklearn.metrics import confusion_matrix\n",
    "cm = confusion_matrix(y_test, y_pred)"
   ]
  },
  {
   "cell_type": "code",
   "execution_count": 15,
   "metadata": {
    "collapsed": false
   },
   "outputs": [
    {
     "data": {
      "text/plain": [
       "array([[1544,   51],\n",
       "       [ 262,  143]])"
      ]
     },
     "execution_count": 15,
     "metadata": {},
     "output_type": "execute_result"
    }
   ],
   "source": [
    "cm"
   ]
  }
 ],
 "metadata": {
  "kernelspec": {
   "display_name": "Python [conda root]",
   "language": "python",
   "name": "conda-root-py"
  },
  "language_info": {
   "codemirror_mode": {
    "name": "ipython",
    "version": 3
   },
   "file_extension": ".py",
   "mimetype": "text/x-python",
   "name": "python",
   "nbconvert_exporter": "python",
   "pygments_lexer": "ipython3",
   "version": "3.5.2"
  }
 },
 "nbformat": 4,
 "nbformat_minor": 1
}
