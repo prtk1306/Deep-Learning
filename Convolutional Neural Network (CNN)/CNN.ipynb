{
 "cells": [
  {
   "cell_type": "code",
   "execution_count": 1,
   "metadata": {},
   "outputs": [
    {
     "name": "stderr",
     "output_type": "stream",
     "text": [
      "Using TensorFlow backend.\n"
     ]
    }
   ],
   "source": [
    "#install required libraries\n",
    "from keras.models import Sequential\n",
    "from keras.layers import Convolution2D\n",
    "from keras.layers import MaxPooling2D\n",
    "from keras.layers import Flatten\n",
    "from keras.layers import Dense"
   ]
  },
  {
   "cell_type": "code",
   "execution_count": 2,
   "metadata": {},
   "outputs": [
    {
     "name": "stdout",
     "output_type": "stream",
     "text": [
      "WARNING:tensorflow:From C:\\Users\\prtk1\\Anaconda3\\envs\\tf-gpu\\lib\\site-packages\\keras\\backend\\tensorflow_backend.py:74: The name tf.get_default_graph is deprecated. Please use tf.compat.v1.get_default_graph instead.\n",
      "\n",
      "WARNING:tensorflow:From C:\\Users\\prtk1\\Anaconda3\\envs\\tf-gpu\\lib\\site-packages\\keras\\backend\\tensorflow_backend.py:517: The name tf.placeholder is deprecated. Please use tf.compat.v1.placeholder instead.\n",
      "\n",
      "WARNING:tensorflow:From C:\\Users\\prtk1\\Anaconda3\\envs\\tf-gpu\\lib\\site-packages\\keras\\backend\\tensorflow_backend.py:4138: The name tf.random_uniform is deprecated. Please use tf.random.uniform instead.\n",
      "\n",
      "WARNING:tensorflow:From C:\\Users\\prtk1\\Anaconda3\\envs\\tf-gpu\\lib\\site-packages\\keras\\backend\\tensorflow_backend.py:3976: The name tf.nn.max_pool is deprecated. Please use tf.nn.max_pool2d instead.\n",
      "\n",
      "WARNING:tensorflow:From C:\\Users\\prtk1\\Anaconda3\\envs\\tf-gpu\\lib\\site-packages\\keras\\optimizers.py:790: The name tf.train.Optimizer is deprecated. Please use tf.compat.v1.train.Optimizer instead.\n",
      "\n",
      "WARNING:tensorflow:From C:\\Users\\prtk1\\Anaconda3\\envs\\tf-gpu\\lib\\site-packages\\keras\\backend\\tensorflow_backend.py:3376: The name tf.log is deprecated. Please use tf.math.log instead.\n",
      "\n",
      "WARNING:tensorflow:From C:\\Users\\prtk1\\Anaconda3\\envs\\tf-gpu\\lib\\site-packages\\tensorflow_core\\python\\ops\\nn_impl.py:183: where (from tensorflow.python.ops.array_ops) is deprecated and will be removed in a future version.\n",
      "Instructions for updating:\n",
      "Use tf.where in 2.0, which has the same broadcast rule as np.where\n"
     ]
    },
    {
     "name": "stderr",
     "output_type": "stream",
     "text": [
      "C:\\Users\\prtk1\\Anaconda3\\envs\\tf-gpu\\lib\\site-packages\\ipykernel_launcher.py:5: UserWarning: Update your `Conv2D` call to the Keras 2 API: `Conv2D(32, (3, 3), input_shape=(64, 64, 3..., activation=\"relu\")`\n",
      "  \"\"\"\n",
      "C:\\Users\\prtk1\\Anaconda3\\envs\\tf-gpu\\lib\\site-packages\\ipykernel_launcher.py:11: UserWarning: Update your `Conv2D` call to the Keras 2 API: `Conv2D(32, (3, 3), activation=\"relu\")`\n",
      "  # This is added back by InteractiveShellApp.init_path()\n",
      "C:\\Users\\prtk1\\Anaconda3\\envs\\tf-gpu\\lib\\site-packages\\ipykernel_launcher.py:18: UserWarning: Update your `Dense` call to the Keras 2 API: `Dense(activation=\"relu\", units=128)`\n",
      "C:\\Users\\prtk1\\Anaconda3\\envs\\tf-gpu\\lib\\site-packages\\ipykernel_launcher.py:19: UserWarning: Update your `Dense` call to the Keras 2 API: `Dense(activation=\"sigmoid\", units=1)`\n"
     ]
    },
    {
     "name": "stdout",
     "output_type": "stream",
     "text": [
      "Found 8000 images belonging to 2 classes.\n",
      "Found 2000 images belonging to 2 classes.\n"
     ]
    }
   ],
   "source": [
    "#initializing CNN model\n",
    "classifier = Sequential()\n",
    "\n",
    "#Step - 1 Convolution\n",
    "classifier.add(Convolution2D(32, 3, 3, input_shape = (64, 64, 3), activation='relu'))\n",
    "\n",
    "#Step - 2 MaxPooling\n",
    "classifier.add(MaxPooling2D(pool_size=(2, 2)))\n",
    "\n",
    "#adding second convolution layer\n",
    "classifier.add(Convolution2D(32, 3, 3, activation='relu'))\n",
    "classifier.add(MaxPooling2D(pool_size=(2, 2)))\n",
    "\n",
    "#Step - 3 Flattening\n",
    "classifier.add(Flatten())\n",
    "\n",
    "#Step - 4 Full connection\n",
    "classifier.add(Dense(output_dim=128, activation='relu'))\n",
    "classifier.add(Dense(output_dim=1, activation='sigmoid'))\n",
    "\n",
    "#Compiling CNN\n",
    "classifier.compile(optimizer='adam', loss='binary_crossentropy', metrics=['accuracy'])\n",
    "\n",
    "#part-2 Inputting image to the CNN model\n",
    "from keras.preprocessing.image import ImageDataGenerator\n",
    "\n",
    "train_datagen = ImageDataGenerator(rescale=1./255,\n",
    "                                   shear_range=0.2,\n",
    "                                   zoom_range=0.2,\n",
    "                                   horizontal_flip=True)\n",
    "\n",
    "test_datagen = ImageDataGenerator(rescale=1./255)\n",
    "\n",
    "training_set = train_datagen.flow_from_directory('data/dataset/training_set',\n",
    "                                                    target_size=(64, 64),\n",
    "                                                    batch_size=32,\n",
    "                                                    class_mode='binary')\n",
    "\n",
    "test_set = test_datagen.flow_from_directory('data/dataset/test_set',\n",
    "                                                        target_size=(64, 64),\n",
    "                                                        batch_size=32,\n",
    "                                                        class_mode='binary')\n"
   ]
  },
  {
   "cell_type": "code",
   "execution_count": 3,
   "metadata": {},
   "outputs": [
    {
     "name": "stdout",
     "output_type": "stream",
     "text": [
      "WARNING:tensorflow:From C:\\Users\\prtk1\\Anaconda3\\envs\\tf-gpu\\lib\\site-packages\\keras\\backend\\tensorflow_backend.py:986: The name tf.assign_add is deprecated. Please use tf.compat.v1.assign_add instead.\n",
      "\n",
      "WARNING:tensorflow:From C:\\Users\\prtk1\\Anaconda3\\envs\\tf-gpu\\lib\\site-packages\\keras\\backend\\tensorflow_backend.py:973: The name tf.assign is deprecated. Please use tf.compat.v1.assign instead.\n",
      "\n",
      "WARNING:tensorflow:From C:\\Users\\prtk1\\Anaconda3\\envs\\tf-gpu\\lib\\site-packages\\keras\\backend\\tensorflow_backend.py:2741: The name tf.Session is deprecated. Please use tf.compat.v1.Session instead.\n",
      "\n",
      "Epoch 1/25\n",
      "WARNING:tensorflow:From C:\\Users\\prtk1\\Anaconda3\\envs\\tf-gpu\\lib\\site-packages\\keras\\backend\\tensorflow_backend.py:174: The name tf.get_default_session is deprecated. Please use tf.compat.v1.get_default_session instead.\n",
      "\n",
      "WARNING:tensorflow:From C:\\Users\\prtk1\\Anaconda3\\envs\\tf-gpu\\lib\\site-packages\\keras\\backend\\tensorflow_backend.py:181: The name tf.ConfigProto is deprecated. Please use tf.compat.v1.ConfigProto instead.\n",
      "\n",
      "WARNING:tensorflow:From C:\\Users\\prtk1\\Anaconda3\\envs\\tf-gpu\\lib\\site-packages\\keras\\backend\\tensorflow_backend.py:190: The name tf.global_variables is deprecated. Please use tf.compat.v1.global_variables instead.\n",
      "\n",
      "WARNING:tensorflow:From C:\\Users\\prtk1\\Anaconda3\\envs\\tf-gpu\\lib\\site-packages\\keras\\backend\\tensorflow_backend.py:199: The name tf.is_variable_initialized is deprecated. Please use tf.compat.v1.is_variable_initialized instead.\n",
      "\n",
      "WARNING:tensorflow:From C:\\Users\\prtk1\\Anaconda3\\envs\\tf-gpu\\lib\\site-packages\\keras\\backend\\tensorflow_backend.py:206: The name tf.variables_initializer is deprecated. Please use tf.compat.v1.variables_initializer instead.\n",
      "\n",
      "8000/8000 [==============================] - 993s 124ms/step - loss: 0.3859 - acc: 0.8189 - val_loss: 0.5430 - val_acc: 0.7876\n",
      "Epoch 2/25\n",
      "8000/8000 [==============================] - 990s 124ms/step - loss: 0.1709 - acc: 0.9305 - val_loss: 0.8276 - val_acc: 0.7923\n",
      "Epoch 3/25\n",
      "8000/8000 [==============================] - 1966s 246ms/step - loss: 0.0928 - acc: 0.9650 - val_loss: 0.9393 - val_acc: 0.8056\n",
      "Epoch 4/25\n",
      "8000/8000 [==============================] - 2254s 282ms/step - loss: 0.0604 - acc: 0.9783 - val_loss: 1.1287 - val_acc: 0.8011\n",
      "Epoch 5/25\n",
      "8000/8000 [==============================] - 2220s 278ms/step - loss: 0.0465 - acc: 0.9838 - val_loss: 1.1800 - val_acc: 0.7999\n",
      "Epoch 6/25\n",
      "8000/8000 [==============================] - 1333s 167ms/step - loss: 0.0370 - acc: 0.9872 - val_loss: 1.3399 - val_acc: 0.7972\n",
      "Epoch 7/25\n",
      "8000/8000 [==============================] - 769s 96ms/step - loss: 0.0313 - acc: 0.9893 - val_loss: 1.4797 - val_acc: 0.7806\n",
      "Epoch 8/25\n",
      "8000/8000 [==============================] - 3686s 461ms/step - loss: 0.0264 - acc: 0.9910 - val_loss: 1.3006 - val_acc: 0.8016\n",
      "Epoch 9/25\n",
      "8000/8000 [==============================] - 33899s 4s/step - loss: 0.0237 - acc: 0.9920 - val_loss: 1.4594 - val_acc: 0.8021\n",
      "Epoch 10/25\n",
      "8000/8000 [==============================] - 777s 97ms/step - loss: 0.0209 - acc: 0.9930 - val_loss: 1.4400 - val_acc: 0.7885\n",
      "Epoch 11/25\n",
      "8000/8000 [==============================] - 778s 97ms/step - loss: 0.0179 - acc: 0.9939 - val_loss: 1.4499 - val_acc: 0.7987\n",
      "Epoch 12/25\n",
      "8000/8000 [==============================] - 778s 97ms/step - loss: 0.0181 - acc: 0.9942 - val_loss: 1.4746 - val_acc: 0.8014\n",
      "Epoch 13/25\n",
      "8000/8000 [==============================] - 779s 97ms/step - loss: 0.0146 - acc: 0.9952 - val_loss: 1.4602 - val_acc: 0.7979\n",
      "Epoch 14/25\n",
      "8000/8000 [==============================] - 778s 97ms/step - loss: 0.0150 - acc: 0.9951 - val_loss: 1.5181 - val_acc: 0.8013\n",
      "Epoch 15/25\n",
      "8000/8000 [==============================] - 777s 97ms/step - loss: 0.0137 - acc: 0.9955 - val_loss: 1.5560 - val_acc: 0.7932\n",
      "Epoch 16/25\n",
      "8000/8000 [==============================] - 776s 97ms/step - loss: 0.0127 - acc: 0.9960 - val_loss: 1.5449 - val_acc: 0.8110\n",
      "Epoch 17/25\n",
      "8000/8000 [==============================] - 776s 97ms/step - loss: 0.0117 - acc: 0.9962 - val_loss: 1.5590 - val_acc: 0.8119\n",
      "Epoch 18/25\n",
      "8000/8000 [==============================] - 777s 97ms/step - loss: 0.0119 - acc: 0.9962 - val_loss: 1.4996 - val_acc: 0.8108\n",
      "Epoch 19/25\n",
      "8000/8000 [==============================] - 777s 97ms/step - loss: 0.0098 - acc: 0.9968 - val_loss: 1.4826 - val_acc: 0.8098\n",
      "Epoch 20/25\n",
      "8000/8000 [==============================] - 777s 97ms/step - loss: 0.0106 - acc: 0.9967 - val_loss: 1.5854 - val_acc: 0.8163\n",
      "Epoch 21/25\n",
      "8000/8000 [==============================] - 777s 97ms/step - loss: 0.0098 - acc: 0.9968 - val_loss: 1.6222 - val_acc: 0.8088\n",
      "Epoch 22/25\n",
      "8000/8000 [==============================] - 777s 97ms/step - loss: 0.0099 - acc: 0.9969 - val_loss: 1.7873 - val_acc: 0.7966\n",
      "Epoch 23/25\n",
      "8000/8000 [==============================] - 778s 97ms/step - loss: 0.0091 - acc: 0.9971 - val_loss: 1.7835 - val_acc: 0.7973\n",
      "Epoch 24/25\n",
      "8000/8000 [==============================] - 778s 97ms/step - loss: 0.0091 - acc: 0.9971 - val_loss: 1.6218 - val_acc: 0.8032\n",
      "Epoch 25/25\n",
      "8000/8000 [==============================] - 778s 97ms/step - loss: 0.0077 - acc: 0.9975 - val_loss: 1.6715 - val_acc: 0.8128\n"
     ]
    },
    {
     "data": {
      "text/plain": [
       "<keras.callbacks.History at 0x10fd1edae08>"
      ]
     },
     "execution_count": 3,
     "metadata": {},
     "output_type": "execute_result"
    }
   ],
   "source": [
    "classifier.fit_generator(training_set,\n",
    "                    steps_per_epoch=8000,\n",
    "                    epochs=25,\n",
    "                    validation_data=test_set,\n",
    "                    validation_steps=2000)"
   ]
  }
 ],
 "metadata": {
  "kernelspec": {
   "display_name": "TensorFlow-GPU-1.13",
   "language": "python",
   "name": "tf-gpu"
  },
  "language_info": {
   "codemirror_mode": {
    "name": "ipython",
    "version": 3
   },
   "file_extension": ".py",
   "mimetype": "text/x-python",
   "name": "python",
   "nbconvert_exporter": "python",
   "pygments_lexer": "ipython3",
   "version": "3.7.6"
  }
 },
 "nbformat": 4,
 "nbformat_minor": 2
}
